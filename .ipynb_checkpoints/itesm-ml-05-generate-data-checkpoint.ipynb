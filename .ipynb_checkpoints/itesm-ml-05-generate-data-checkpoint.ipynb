{
 "cells": [
  {
   "cell_type": "code",
   "execution_count": 1,
   "metadata": {},
   "outputs": [],
   "source": [
    "import numpy as np\n",
    "import matplotlib.pyplot as plt"
   ]
  },
  {
   "cell_type": "code",
   "execution_count": 23,
   "metadata": {},
   "outputs": [],
   "source": [
    "np.random.seed(3)\n",
    "x = np.linspace(-1, 1, 100)\n",
    "# *x.shape: da como resultado 100\n",
    "y = 2 * x + np.random.randn(*x.shape) * 0.33 + 1\n",
    "y_2 = 2 * x + 1"
   ]
  },
  {
   "cell_type": "code",
   "execution_count": 24,
   "metadata": {},
   "outputs": [
    {
     "data": {
      "text/plain": [
       "(array([-1.        , -0.97979798, -0.95959596, -0.93939394, -0.91919192,\n",
       "        -0.8989899 , -0.87878788, -0.85858586, -0.83838384, -0.81818182,\n",
       "        -0.7979798 , -0.77777778, -0.75757576, -0.73737374, -0.71717172,\n",
       "        -0.6969697 , -0.67676768, -0.65656566, -0.63636364, -0.61616162,\n",
       "        -0.5959596 , -0.57575758, -0.55555556, -0.53535354, -0.51515152,\n",
       "        -0.49494949, -0.47474747, -0.45454545, -0.43434343, -0.41414141,\n",
       "        -0.39393939, -0.37373737, -0.35353535, -0.33333333, -0.31313131,\n",
       "        -0.29292929, -0.27272727, -0.25252525, -0.23232323, -0.21212121,\n",
       "        -0.19191919, -0.17171717, -0.15151515, -0.13131313, -0.11111111,\n",
       "        -0.09090909, -0.07070707, -0.05050505, -0.03030303, -0.01010101,\n",
       "         0.01010101,  0.03030303,  0.05050505,  0.07070707,  0.09090909,\n",
       "         0.11111111,  0.13131313,  0.15151515,  0.17171717,  0.19191919,\n",
       "         0.21212121,  0.23232323,  0.25252525,  0.27272727,  0.29292929,\n",
       "         0.31313131,  0.33333333,  0.35353535,  0.37373737,  0.39393939,\n",
       "         0.41414141,  0.43434343,  0.45454545,  0.47474747,  0.49494949,\n",
       "         0.51515152,  0.53535354,  0.55555556,  0.57575758,  0.5959596 ,\n",
       "         0.61616162,  0.63636364,  0.65656566,  0.67676768,  0.6969697 ,\n",
       "         0.71717172,  0.73737374,  0.75757576,  0.77777778,  0.7979798 ,\n",
       "         0.81818182,  0.83838384,  0.85858586,  0.87878788,  0.8989899 ,\n",
       "         0.91919192,  0.93939394,  0.95959596,  0.97979798,  1.        ]),\n",
       " array([-0.4097526 , -0.81554771, -0.88734775, -1.49374047, -0.92992195,\n",
       "        -0.91505026, -0.78488045, -0.92408194, -0.69122767, -0.79384559,\n",
       "        -1.02953496, -0.26363017, -0.22431656,  0.08941164, -0.41783233,\n",
       "        -0.52748294, -0.53350414, -0.82346883,  0.05145398, -0.59567555,\n",
       "        -0.58298455, -0.21937962,  0.37931785,  0.0074093 , -0.36815213,\n",
       "        -0.22518675,  0.25683589,  0.03793968, -0.12240286,  0.09580703,\n",
       "         0.45798978,  0.90464181, -0.11763141,  0.12661575,  0.10849456,\n",
       "        -0.38415603,  0.14969409,  0.15707049,  0.90626626,  0.53222588,\n",
       "         0.08047742,  0.86996856,  0.57940035,  0.1621372 ,  0.5808834 ,\n",
       "         0.62394567,  0.5702047 ,  0.90879546,  0.19746888,  0.89143656,\n",
       "         1.35455256,  1.34202935,  1.46671198,  1.51081306,  1.67270742,\n",
       "         0.853183  ,  1.54175129,  0.68893676,  1.14448226,  0.75206261,\n",
       "         1.7701311 ,  1.90477995,  1.43990366,  2.13108741,  1.36319851,\n",
       "         1.67596619,  1.71713875,  1.35588627,  1.89199713,  2.42774168,\n",
       "         1.49005564,  2.16546856,  1.85810365,  2.53347196,  2.14954914,\n",
       "         2.25345444,  2.28295095,  2.19330972,  1.6909132 ,  2.65116795,\n",
       "         1.78000246,  2.35145313,  2.51577675,  2.0770243 ,  2.44181025,\n",
       "         2.81974459,  2.466793  ,  2.22189457,  1.5933621 ,  2.27525223,\n",
       "         2.44130765,  2.50634995,  2.40037298,  2.88208318,  2.60832602,\n",
       "         2.80226391,  3.10288151,  2.63689765,  2.86052796,  3.71218928]))"
      ]
     },
     "execution_count": 24,
     "metadata": {},
     "output_type": "execute_result"
    }
   ],
   "source": [
    "x, y"
   ]
  },
  {
   "cell_type": "code",
   "execution_count": 37,
   "metadata": {},
   "outputs": [
    {
     "data": {
      "image/png": "[encoded data removed]",
      "text/plain": [
       "<Figure size 432x288 with 1 Axes>"
      ]
     },
     "metadata": {
      "needs_background": "light"
     },
     "output_type": "display_data"
    },
    {
     "data": {
      "text/plain": [
       "<Figure size 432x288 with 0 Axes>"
      ]
     },
     "metadata": {},
     "output_type": "display_data"
    }
   ],
   "source": [
    "# Graficamos los valores que acabamos de generar de color rojo.\n",
    "plt.scatter(x, y, c = 'r')\n",
    "plt.plot(x, y_2)\n",
    "plt.show()\n",
    "plt.savefig('random_points.png')"
   ]
  },
  {
   "cell_type": "code",
   "execution_count": 40,
   "metadata": {},
   "outputs": [],
   "source": [
    "# Concatenamos \"x\" e \"y\"\n",
    "total = np.r_[[x],[y]]\n",
    "# Transponemos (Columnas a filas)\n",
    "total = np.transpose(total)\n",
    "# Mezclamos los datos por filas para queno esten ordenados \n",
    "np.random.shuffle(total)\n",
    "# Guardamos el resultado en un archivo llamado \"total.txt\"\n",
    "np.savetxt('total.txt', total)"
   ]
  }
 ],
 "metadata": {
  "kernelspec": {
   "display_name": "Python 3",
   "language": "python",
   "name": "python3"
  },
  "language_info": {
   "codemirror_mode": {
    "name": "ipython",
    "version": 3
   },
   "file_extension": ".py",
   "mimetype": "text/x-python",
   "name": "python",
   "nbconvert_exporter": "python",
   "pygments_lexer": "ipython3",
   "version": "3.7.6"
  }
 },
 "nbformat": 4,
 "nbformat_minor": 4
}
