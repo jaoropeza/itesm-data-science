{
 "cells": [
  {
   "cell_type": "code",
   "execution_count": 1,
   "metadata": {},
   "outputs": [],
   "source": [
    "import numpy as np\n",
    "import time"
   ]
  },
  {
   "cell_type": "code",
   "execution_count": 2,
   "metadata": {},
   "outputs": [],
   "source": [
    "# Creación de vectores\n",
    "np.random.seed(3)\n",
    "a = np.random.randn(1000000)\n",
    "b = np.random.randn(1000000)"
   ]
  },
  {
   "cell_type": "code",
   "execution_count": 3,
   "metadata": {},
   "outputs": [
    {
     "name": "stdout",
     "output_type": "stream",
     "text": [
      "-620.7253086261675\n",
      "Usando un for el tiempo que tardo fue:  616.6365146636963\n"
     ]
    }
   ],
   "source": [
    "# Producto punto a mano\n",
    "tic = time.time()\n",
    "acum = 0\n",
    "for i in range(1000000):\n",
    "    acum = acum + a[i] * b[i]\n",
    "toc = time.time()\n",
    "print(acum)\n",
    "print(\"Usando un for el tiempo que tardo fue: \", (toc - tic) * 1000)"
   ]
  },
  {
   "cell_type": "code",
   "execution_count": 6,
   "metadata": {},
   "outputs": [
    {
     "name": "stdout",
     "output_type": "stream",
     "text": [
      "-620.7253086261787\n",
      "Usando dot de np:  2.0058155059814453\n"
     ]
    }
   ],
   "source": [
    "tic = time.time()\n",
    "acum  = np.dot(a, b)\n",
    "toc = time.time()\n",
    "print(acum)\n",
    "print(\"Usando dot de np: \", (toc - tic) * 1000)"
   ]
  },
  {
   "cell_type": "code",
   "execution_count": 5,
   "metadata": {},
   "outputs": [
    {
     "name": "stdout",
     "output_type": "stream",
     "text": [
      "Usando dot de np:  1.0027885437011719\n"
     ]
    }
   ],
   "source": [
    "tic = time.time()\n",
    "acum  = a @ b\n",
    "toc = time.time()\n",
    "print(acum)\n",
    "print(\"Usando dot de np: \", (toc - tic) * 1000)"
   ]
  }
 ],
 "metadata": {
  "kernelspec": {
   "display_name": "Python 3",
   "language": "python",
   "name": "python3"
  },
  "language_info": {
   "codemirror_mode": {
    "name": "ipython",
    "version": 3
   },
   "file_extension": ".py",
   "mimetype": "text/x-python",
   "name": "python",
   "nbconvert_exporter": "python",
   "pygments_lexer": "ipython3",
   "version": "3.7.6"
  }
 },
 "nbformat": 4,
 "nbformat_minor": 4
}
