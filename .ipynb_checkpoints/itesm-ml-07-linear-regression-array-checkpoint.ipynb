{
 "cells": [
  {
   "cell_type": "code",
   "execution_count": 248,
   "metadata": {},
   "outputs": [],
   "source": [
    "import tensorflow as tf\n",
    "import numpy as np\n",
    "import matplotlib.pyplot as plt"
   ]
  },
  {
   "cell_type": "code",
   "execution_count": 249,
   "metadata": {},
   "outputs": [],
   "source": [
    "# Cargar y partir los datos\n",
    "datos = np.loadtxt(\"total.txt\")\n",
    "datos = np.transpose(datos)\n",
    "x = datos[0]\n",
    "y = datos[1]\n",
    "xTrain, xTest = x[:80], x[-20:]\n",
    "yTrain, yTest = y[:80], y[-20:]"
   ]
  },
  {
   "cell_type": "code",
   "execution_count": 250,
   "metadata": {},
   "outputs": [],
   "source": [
    "# Definir valores (hiper-parámetros)\n",
    "learning_rate = 0.1\n",
    "epochs = 50\n",
    "m = len(yTrain)"
   ]
  },
  {
   "cell_type": "code",
   "execution_count": 251,
   "metadata": {},
   "outputs": [],
   "source": [
    "# Definir tensores\n",
    "X = tf.constant(xTrain, dtype = tf.float32)\n",
    "Y = tf.constant(yTrain, dtype = tf.float32)\n",
    "T0 = tf.Variable(0.0, dtype = tf.float32)\n",
    "T1 = tf.Variable(0.0, dtype = tf.float32)"
   ]
  },
  {
   "cell_type": "code",
   "execution_count": 252,
   "metadata": {},
   "outputs": [],
   "source": [
    "# Definir operaciones\n",
    "def modelo(T0, T1, X):\n",
    "    return T0 + tf.multiply(T1, X)\n",
    "\n",
    "def costo(T0, T1, X, Y):\n",
    "    m = len(Y.numpy())\n",
    "    return tf.reduce_sum(tf.square(modelo(T0, T1, X) - Y))/m\n",
    "\n",
    "def costo_minimizar():\n",
    "    return tf.reduce_sum(tf.square(modelo(T0, T1, X) - Y))/m\n",
    "\n",
    "train_op = tf.keras.optimizers.SGD(learning_rate)"
   ]
  },
  {
   "cell_type": "code",
   "execution_count": 253,
   "metadata": {},
   "outputs": [
    {
     "name": "stdout",
     "output_type": "stream",
     "text": [
      "Epoca  0 :  0.0 0.0 2.5289946\n",
      "Epoca  1 :  0.19167665 0.14562462 1.9936565\n",
      "Epoca  2 :  0.3451062 0.2809885 1.6049597\n",
      "Epoca  3 :  0.46793193 0.4067996 1.3164457\n",
      "Epoca  4 :  0.56626874 0.5237201 1.0975115\n",
      "Epoca  5 :  0.64500904 0.6323686 0.9278202\n",
      "Epoca  6 :  0.7080671 0.7333228 0.7937085\n",
      "Epoca  7 :  0.7585748 0.82712144 0.6858734\n",
      "Epoca  8 :  0.79903775 0.91426677 0.5978794\n",
      "Epoca  9 :  0.83146095 0.9952268 0.52519214\n",
      "Epoca  10 :  0.8574486 1.0704374 0.46455115\n",
      "Epoca  11 :  0.8782843 1.1403044 0.4135604\n",
      "Epoca  12 :  0.89499515 1.2052056 0.3704198\n",
      "Epoca  13 :  0.9084032 1.2654921 0.33374718\n",
      "Epoca  14 :  0.9191662 1.3214908 0.30245972\n",
      "Epoca  15 :  0.9278105 1.3735056 0.275693\n",
      "Epoca  16 :  0.9347575 1.4218192 0.25274622\n",
      "Epoca  17 :  0.94034433 1.4666944 0.23304348\n",
      "Epoca  18 :  0.944841 1.5083752 0.21610649\n",
      "Epoca  19 :  0.9484636 1.5470886 0.20153418\n",
      "Epoca  20 :  0.95138514 1.5830456 0.18898836\n",
      "Epoca  21 :  0.9537442 1.6164421 0.1781819\n",
      "Epoca  22 :  0.95565164 1.6474602 0.16887034\n",
      "Epoca  23 :  0.9571964 1.6762693 0.16084465\n",
      "Epoca  24 :  0.9584497 1.7030264 0.15392599\n",
      "Epoca  25 :  0.95946854 1.7278776 0.14796072\n",
      "Epoca  26 :  0.96029866 1.7509586 0.1428169\n",
      "Epoca  27 :  0.9609768 1.7723954 0.13838103\n",
      "Epoca  28 :  0.96153224 1.792305 0.1345555\n",
      "Epoca  29 :  0.9619887 1.8107963 0.13125615\n",
      "Epoca  30 :  0.96236503 1.8279701 0.12841049\n",
      "Epoca  31 :  0.9626765 1.8439205 0.12595609\n",
      "Epoca  32 :  0.9629354 1.8587344 0.12383914\n",
      "Epoca  33 :  0.96315145 1.8724928 0.12201321\n",
      "Epoca  34 :  0.96333265 1.885271 0.12043824\n",
      "Epoca  35 :  0.96348536 1.8971387 0.11907977\n",
      "Epoca  36 :  0.9636147 1.9081609 0.117908\n",
      "Epoca  37 :  0.96372485 1.9183978 0.1168973\n",
      "Epoca  38 :  0.9638192 1.9279052 0.11602549\n",
      "Epoca  39 :  0.96390045 1.9367353 0.11527352\n",
      "Epoca  40 :  0.9639708 1.9449362 0.114624895\n",
      "Epoca  41 :  0.964032 1.9525527 0.11406541\n",
      "Epoca  42 :  0.9640856 1.9596266 0.11358283\n",
      "Epoca  43 :  0.9641328 1.9661963 0.11316655\n",
      "Epoca  44 :  0.9641745 1.972298 0.1128075\n",
      "Epoca  45 :  0.9642116 1.9779649 0.11249779\n",
      "Epoca  46 :  0.96424466 1.983228 0.11223066\n",
      "Epoca  47 :  0.96427435 1.988116 0.11200021\n",
      "Epoca  48 :  0.96430105 1.9926559 0.11180146\n",
      "Epoca  49 :  0.96432513 1.9968722 0.11163001\n",
      "Theta Final:  0.96434695 2.000788 0.11163001\n"
     ]
    }
   ],
   "source": [
    "hist_error = []\n",
    "for epoch in range(epochs):\n",
    "    error = costo(T0, T1, X, Y).numpy()\n",
    "    hist_error.append(error)\n",
    "    print(\"Epoca \", epoch, \": \", T0.numpy(), T1.numpy(), error)\n",
    "    train_op.minimize(costo_minimizar, var_list=[T0, T1])\n",
    "\n",
    "print(\"Theta Final: \", T0.numpy(), T1.numpy(), error)"
   ]
  },
  {
   "cell_type": "code",
   "execution_count": 254,
   "metadata": {},
   "outputs": [
    {
     "data": {
      "image/png": "[encoded data removed]",
      "text/plain": [
       "<Figure size 432x288 with 1 Axes>"
      ]
     },
     "metadata": {
      "needs_background": "light"
     },
     "output_type": "display_data"
    }
   ],
   "source": [
    "plt.plot(hist_error)\n",
    "plt.show()"
   ]
  },
  {
   "cell_type": "code",
   "execution_count": 255,
   "metadata": {},
   "outputs": [
    {
     "name": "stdout",
     "output_type": "stream",
     "text": [
      "0.17042607\n"
     ]
    }
   ],
   "source": [
    "# Probar con datos de Test\n",
    "XT = tf.constant(xTest, dtype = tf.float32)\n",
    "YT = tf.constant(yTest, dtype = tf.float32)\n",
    "\n",
    "print(costo(T0, T1, XT, YT).numpy())"
   ]
  },
  {
   "cell_type": "code",
   "execution_count": 271,
   "metadata": {},
   "outputs": [],
   "source": [
    "# Función para probar el modelo que acabamos de generar los valores obtenidos para T0 y T1.\n",
    "def predice(Xpredice):\n",
    "    m = len(Xpredice)\n",
    "    p = []\n",
    "    for i in range(m):\n",
    "        Ypredice = T0 + T1 * Xpredice[i]\n",
    "        p.append(Ypredice.numpy())\n",
    "    return p"
   ]
  },
  {
   "cell_type": "code",
   "execution_count": 273,
   "metadata": {},
   "outputs": [
    {
     "data": {
      "text/plain": [
       "[2.5049536, 3.265253, -3.037229]"
      ]
     },
     "execution_count": 273,
     "metadata": {},
     "output_type": "execute_result"
    }
   ],
   "source": [
    "# Predecimos unos valores para ver como se comporta nuestro modelo utilizando también valores con los que no se entreno el modelo.\n",
    "predice([0.77, 1.15, -2])"
   ]
  }
 ],
 "metadata": {
  "kernelspec": {
   "display_name": "Python 3",
   "language": "python",
   "name": "python3"
  },
  "language_info": {
   "codemirror_mode": {
    "name": "ipython",
    "version": 3
   },
   "file_extension": ".py",
   "mimetype": "text/x-python",
   "name": "python",
   "nbconvert_exporter": "python",
   "pygments_lexer": "ipython3",
   "version": "3.7.6"
  }
 },
 "nbformat": 4,
 "nbformat_minor": 4
}
