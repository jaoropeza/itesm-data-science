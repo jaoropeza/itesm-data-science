{
 "cells": [
  {
   "cell_type": "markdown",
   "metadata": {},
   "source": [
    "# Integrantes del equipo:\n",
    "- Ángel Oropeza\n",
    "- Isaac Vivas\n",
    "- Pedro Arizmendi "
   ]
  },
  {
   "cell_type": "code",
   "execution_count": 1,
   "metadata": {},
   "outputs": [
    {
     "name": "stdout",
     "output_type": "stream",
     "text": [
      "Tamaño X, Y:  (2, 3000) (1, 3000)\n",
      "X [[7.08146855 3.57893446 5.34073113 ... 5.6100421  7.85002784 5.09313198]\n",
      " [6.19290511 5.53340881 7.32337241 ... 7.08018734 0.84344671 6.00638513]]\n",
      "Y [[1. 2. 1. ... 1. 0. 1.]]\n",
      "xTrain, xTest:  (2, 2400) (2, 600)\n",
      "yTrain, yTest:  (1, 2400) (1, 600)\n"
     ]
    },
    {
     "data": {
      "text/plain": [
       "<Figure size 640x480 with 1 Axes>"
      ]
     },
     "metadata": {},
     "output_type": "display_data"
    },
    {
     "data": {
      "text/plain": [
       "<Figure size 640x480 with 1 Axes>"
      ]
     },
     "metadata": {},
     "output_type": "display_data"
    },
    {
     "data": {
      "text/plain": [
       "<Figure size 640x480 with 1 Axes>"
      ]
     },
     "metadata": {},
     "output_type": "display_data"
    }
   ],
   "source": [
    "import tensorflow as tf\n",
    "import numpy as np\n",
    "import matplotlib.pyplot as plt\n",
    "\n",
    "class UtilsData:\n",
    "\n",
    "    def load_data(file, xs):\n",
    "        np.random.seed(1)\n",
    "        datos = np.loadtxt(file)\n",
    "        np.random.shuffle(datos)\n",
    "        datos = np.transpose(datos)\n",
    "        x = datos[:xs,:]\n",
    "        y = datos[-1:]\n",
    "        return x, y\n",
    "\n",
    "    def split_data(x, y, p):\n",
    "        m = len(y[0])\n",
    "        limite = int(p * m)\n",
    "        xTrain, xTest = x[:, :limite], x[:, limite:]\n",
    "        yTrain, yTest = y[:,:limite], y[:,limite:]\n",
    "        return xTrain, xTest, yTrain, yTest\n",
    "\n",
    "    def scatter_data(x, y, title=''):\n",
    "        color = np.where(y[0] == 0, 'r', np.where(y[0] == 1, 'g', 'y'))\n",
    "        plt.scatter(x[0], x[1], marker='x', s = 20, c = color)\n",
    "        plt.title(title)\n",
    "        plt.show()\n",
    "\n",
    "x, y = UtilsData.load_data('datos2.txt', 2)\n",
    "xTrain, xTest, yTrain, yTest = UtilsData.split_data(x, y, 0.8)\n",
    "\n",
    "print('Tamaño X, Y: ', x.shape, y.shape)\n",
    "print('X', x)\n",
    "print('Y', y)\n",
    "\n",
    "print('xTrain, xTest: ', xTrain.shape, xTest.shape)\n",
    "print('yTrain, yTest: ', yTrain.shape, yTest.shape)\n",
    "\n",
    "\n",
    "UtilsData.scatter_data(x, y, 'All')\n",
    "UtilsData.scatter_data(xTrain, yTrain, 'Train')\n",
    "UtilsData.scatter_data(xTest, yTest, 'Test')"
   ]
  },
  {
   "cell_type": "code",
   "execution_count": 2,
   "metadata": {},
   "outputs": [],
   "source": [
    "class Classifier:\n",
    "    def __init__(self, x, y, epochs, learning_rate, error, c_class):\n",
    "        self.epochs = epochs\n",
    "        self.error = error\n",
    "        self.c_class = c_class\n",
    "        self.train_op = tf.keras.optimizers.SGD(learning_rate)\n",
    "        self.X = tf.constant(x, dtype = tf.float32)\n",
    "        self.Y = tf.constant(1 * (y == c_class), dtype = tf.float32)\n",
    "        self.W = tf.Variable([0.]*3, dtype = tf.float32)\n",
    "    \n",
    "    def sigmoidal(self, z):\n",
    "        return 1/(1 + np.exp(-z))\n",
    "\n",
    "    def modelo(self, W, X):\n",
    "        return tf.sigmoid(W[0] + W[1]*X[0] + W[2]*X[1])\n",
    "\n",
    "    def costo(self, W, X, Y):\n",
    "        return tf.reduce_mean(-Y*tf.math.log(self.modelo(W, X)) - (1 - Y)*tf.math.log(1 - self.modelo(W, X)))\n",
    "\n",
    "    def costo_minimizar(self):\n",
    "        return tf.reduce_mean(\n",
    "            -self.Y*tf.math.log(self.modelo(self.W, self.X)) \n",
    "            - (1 - self.Y)*tf.math.log(1 - self.modelo(self.W, self.X)))\n",
    "\n",
    "    def fit(self):\n",
    "        hist_error = []\n",
    "        prev_error = 1000\n",
    "        for epoch in range(self.epochs):\n",
    "            error = self.costo(self.W, self.X, self.Y).numpy()\n",
    "            hist_error.append(error)\n",
    "            self.train_op.minimize(self.costo_minimizar, var_list = [self.W])\n",
    "            if abs(prev_error - error) < self.error:\n",
    "                print(f'Época final: {epoch}')\n",
    "                break\n",
    "            prev_error = error\n",
    "        print(f'[W]: {self.W.numpy()}')\n",
    "\n",
    "        print(error)\n",
    "        plt.plot(hist_error)\n",
    "        plt.show()\n",
    "    \n",
    "    def scatter_boundaries(self, x, y):\n",
    "        # Graficando las fronteras\n",
    "        x1F, x2F = [], []\n",
    "        for x1P in np.linspace(0, 10, 100):\n",
    "            for x2P in np.linspace(0, 10, 100):\n",
    "                yP = self.sigmoidal(self.W[0] + self.W[1]*x1P + self.W[2]*x2P)\n",
    "                if (abs(yP - 0.5) < 0.01):\n",
    "                    x1F.append(x1P)\n",
    "                    x2F.append(x2P)\n",
    "\n",
    "        plt.scatter(x1F, x2F, color = 'b', marker = 'o', s = 20)\n",
    "        color = np.where(y[0] == self.c_class, 'r', 'g')\n",
    "        plt.scatter(x[0], x[1], marker='x', s = 20, color = color)\n",
    "        plt.show()\n",
    "        \n",
    "    def confidence(self, x, y):\n",
    "        # Calculando la confianza de clasificación\n",
    "        num_aciertos = 0\n",
    "        yT = 1 * (y[0] == self.c_class)\n",
    "        for i in range(len(y[0])):\n",
    "            y_gorrito = self.sigmoidal(self.W[0] + self.W[1]*x[0][i] + self.W[2]*x[0][i])\n",
    "            if y_gorrito < 0.5:\n",
    "                clase = 0\n",
    "            else:\n",
    "                clase = 1\n",
    "            if clase == yT[i]:\n",
    "                num_aciertos += 1\n",
    "        print(f'% de Aciertos: {100*num_aciertos/len(y[0])}')\n",
    "        return num_aciertos"
   ]
  },
  {
   "cell_type": "code",
   "execution_count": null,
   "metadata": {},
   "outputs": [
    {
     "name": "stdout",
     "output_type": "stream",
     "text": [
      "Época final: 496\n",
      "[W]: [ 0.21207216  0.52883494 -0.9785141 ]\n",
      "0.23064913\n"
     ]
    },
    {
     "data": {
      "image/png": "[encoded data removed]",
      "text/plain": [
       "<Figure size 432x288 with 1 Axes>"
      ]
     },
     "metadata": {
      "needs_background": "light"
     },
     "output_type": "display_data"
    }
   ],
   "source": [
    "c1 = Classifier(xTrain, yTrain, 500, 0.01, 0.0001, 0)\n",
    "c1.fit()\n",
    "c1.scatter_boundaries(xTrain, yTrain)\n",
    "print(c1.confidence(xTrain, yTrain))\n",
    "print(c1.confidence(xTest, yTest))"
   ]
  },
  {
   "cell_type": "code",
   "execution_count": null,
   "metadata": {},
   "outputs": [],
   "source": [
    "c2 = Classifier(xTrain, yTrain, 1500, 0.1, 0.00001, 1)\n",
    "c2.fit()\n",
    "c2.scatter_boundaries(xTrain, yTrain)\n",
    "print(c2.confidence(xTrain, yTrain))\n",
    "print(c2.confidence(xTest, yTest))"
   ]
  },
  {
   "cell_type": "code",
   "execution_count": null,
   "metadata": {},
   "outputs": [],
   "source": [
    "c3 = Classifier(xTrain, yTrain, 500, 0.1, 0.0001, 2)\n",
    "c3.fit()\n",
    "c3.scatter_boundaries(xTrain, yTrain)\n",
    "print(c3.confidence(xTrain, yTrain))\n",
    "print(c3.confidence(xTest, yTest))"
   ]
  }
 ],
 "metadata": {
  "kernelspec": {
   "display_name": "Python 3",
   "language": "python",
   "name": "python3"
  },
  "language_info": {
   "codemirror_mode": {
    "name": "ipython",
    "version": 3
   },
   "file_extension": ".py",
   "mimetype": "text/x-python",
   "name": "python",
   "nbconvert_exporter": "python",
   "pygments_lexer": "ipython3",
   "version": "3.7.1"
  }
 },
 "nbformat": 4,
 "nbformat_minor": 4
}
